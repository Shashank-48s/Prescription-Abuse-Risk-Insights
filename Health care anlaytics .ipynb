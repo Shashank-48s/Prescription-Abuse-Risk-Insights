{
 "cells": [
  {
   "cell_type": "code",
   "execution_count": 1,
   "id": "8d80f4b4",
   "metadata": {},
   "outputs": [
    {
     "data": {
      "text/html": [
       "<div>\n",
       "<style scoped>\n",
       "    .dataframe tbody tr th:only-of-type {\n",
       "        vertical-align: middle;\n",
       "    }\n",
       "\n",
       "    .dataframe tbody tr th {\n",
       "        vertical-align: top;\n",
       "    }\n",
       "\n",
       "    .dataframe thead th {\n",
       "        text-align: right;\n",
       "    }\n",
       "</style>\n",
       "<table border=\"1\" class=\"dataframe\">\n",
       "  <thead>\n",
       "    <tr style=\"text-align: right;\">\n",
       "      <th></th>\n",
       "      <th>Name</th>\n",
       "      <th>Age</th>\n",
       "      <th>Gender</th>\n",
       "      <th>Blood Type</th>\n",
       "      <th>Medical Condition</th>\n",
       "      <th>Date of Admission</th>\n",
       "      <th>Doctor</th>\n",
       "      <th>Hospital</th>\n",
       "      <th>Insurance Provider</th>\n",
       "      <th>Billing Amount</th>\n",
       "      <th>...</th>\n",
       "      <th>Admission Type</th>\n",
       "      <th>Discharge Date</th>\n",
       "      <th>Medication</th>\n",
       "      <th>Test Results</th>\n",
       "      <th>Prescription_ID</th>\n",
       "      <th>Prescription_Date</th>\n",
       "      <th>Refill_Count</th>\n",
       "      <th>Dosage_mg</th>\n",
       "      <th>Pharmacy</th>\n",
       "      <th>Drug_Class</th>\n",
       "    </tr>\n",
       "  </thead>\n",
       "  <tbody>\n",
       "    <tr>\n",
       "      <th>0</th>\n",
       "      <td>Bobby JacksOn</td>\n",
       "      <td>30</td>\n",
       "      <td>Male</td>\n",
       "      <td>B-</td>\n",
       "      <td>Cancer</td>\n",
       "      <td>2024-01-31</td>\n",
       "      <td>Matthew Smith</td>\n",
       "      <td>Sons and Miller</td>\n",
       "      <td>Blue Cross</td>\n",
       "      <td>18856.281306</td>\n",
       "      <td>...</td>\n",
       "      <td>Urgent</td>\n",
       "      <td>2024-02-02</td>\n",
       "      <td>Paracetamol</td>\n",
       "      <td>Normal</td>\n",
       "      <td>RX000001</td>\n",
       "      <td>2024-01-27</td>\n",
       "      <td>0</td>\n",
       "      <td>500.0</td>\n",
       "      <td>Wellness Pharmacy</td>\n",
       "      <td>Non-opioid</td>\n",
       "    </tr>\n",
       "    <tr>\n",
       "      <th>1</th>\n",
       "      <td>LesLie TErRy</td>\n",
       "      <td>62</td>\n",
       "      <td>Male</td>\n",
       "      <td>A+</td>\n",
       "      <td>Obesity</td>\n",
       "      <td>2019-08-20</td>\n",
       "      <td>Samantha Davies</td>\n",
       "      <td>Kim Inc</td>\n",
       "      <td>Medicare</td>\n",
       "      <td>33643.327287</td>\n",
       "      <td>...</td>\n",
       "      <td>Emergency</td>\n",
       "      <td>2019-08-26</td>\n",
       "      <td>Ibuprofen</td>\n",
       "      <td>Inconclusive</td>\n",
       "      <td>RX000002</td>\n",
       "      <td>2019-08-15</td>\n",
       "      <td>2</td>\n",
       "      <td>200.0</td>\n",
       "      <td>Wellness Pharmacy</td>\n",
       "      <td>NSAID</td>\n",
       "    </tr>\n",
       "    <tr>\n",
       "      <th>2</th>\n",
       "      <td>DaNnY sMitH</td>\n",
       "      <td>76</td>\n",
       "      <td>Female</td>\n",
       "      <td>A-</td>\n",
       "      <td>Obesity</td>\n",
       "      <td>2022-09-22</td>\n",
       "      <td>Tiffany Mitchell</td>\n",
       "      <td>Cook PLC</td>\n",
       "      <td>Aetna</td>\n",
       "      <td>27955.096079</td>\n",
       "      <td>...</td>\n",
       "      <td>Emergency</td>\n",
       "      <td>2022-10-07</td>\n",
       "      <td>Aspirin</td>\n",
       "      <td>Normal</td>\n",
       "      <td>RX000003</td>\n",
       "      <td>2022-09-17</td>\n",
       "      <td>5</td>\n",
       "      <td>300.0</td>\n",
       "      <td>Wellness Pharmacy</td>\n",
       "      <td>NSAID</td>\n",
       "    </tr>\n",
       "    <tr>\n",
       "      <th>3</th>\n",
       "      <td>andrEw waTtS</td>\n",
       "      <td>28</td>\n",
       "      <td>Female</td>\n",
       "      <td>O+</td>\n",
       "      <td>Diabetes</td>\n",
       "      <td>2020-11-18</td>\n",
       "      <td>Kevin Wells</td>\n",
       "      <td>Hernandez Rogers and Vang,</td>\n",
       "      <td>Medicare</td>\n",
       "      <td>37909.782410</td>\n",
       "      <td>...</td>\n",
       "      <td>Elective</td>\n",
       "      <td>2020-12-18</td>\n",
       "      <td>Ibuprofen</td>\n",
       "      <td>Abnormal</td>\n",
       "      <td>RX000004</td>\n",
       "      <td>2020-11-17</td>\n",
       "      <td>0</td>\n",
       "      <td>200.0</td>\n",
       "      <td>CityMeds</td>\n",
       "      <td>NSAID</td>\n",
       "    </tr>\n",
       "    <tr>\n",
       "      <th>4</th>\n",
       "      <td>adrIENNE bEll</td>\n",
       "      <td>43</td>\n",
       "      <td>Female</td>\n",
       "      <td>AB+</td>\n",
       "      <td>Cancer</td>\n",
       "      <td>2022-09-19</td>\n",
       "      <td>Kathleen Hanna</td>\n",
       "      <td>White-White</td>\n",
       "      <td>Aetna</td>\n",
       "      <td>14238.317814</td>\n",
       "      <td>...</td>\n",
       "      <td>Urgent</td>\n",
       "      <td>2022-10-09</td>\n",
       "      <td>Penicillin</td>\n",
       "      <td>Abnormal</td>\n",
       "      <td>RX000005</td>\n",
       "      <td>2022-09-14</td>\n",
       "      <td>1</td>\n",
       "      <td>250.0</td>\n",
       "      <td>HealthFirst RX</td>\n",
       "      <td>Other</td>\n",
       "    </tr>\n",
       "  </tbody>\n",
       "</table>\n",
       "<p>5 rows × 21 columns</p>\n",
       "</div>"
      ],
      "text/plain": [
       "            Name  Age  Gender Blood Type Medical Condition Date of Admission  \\\n",
       "0  Bobby JacksOn   30    Male         B-            Cancer        2024-01-31   \n",
       "1   LesLie TErRy   62    Male         A+           Obesity        2019-08-20   \n",
       "2    DaNnY sMitH   76  Female         A-           Obesity        2022-09-22   \n",
       "3   andrEw waTtS   28  Female         O+          Diabetes        2020-11-18   \n",
       "4  adrIENNE bEll   43  Female        AB+            Cancer        2022-09-19   \n",
       "\n",
       "             Doctor                    Hospital Insurance Provider  \\\n",
       "0     Matthew Smith             Sons and Miller         Blue Cross   \n",
       "1   Samantha Davies                     Kim Inc           Medicare   \n",
       "2  Tiffany Mitchell                    Cook PLC              Aetna   \n",
       "3       Kevin Wells  Hernandez Rogers and Vang,           Medicare   \n",
       "4    Kathleen Hanna                 White-White              Aetna   \n",
       "\n",
       "   Billing Amount  ...  Admission Type Discharge Date   Medication  \\\n",
       "0    18856.281306  ...          Urgent     2024-02-02  Paracetamol   \n",
       "1    33643.327287  ...       Emergency     2019-08-26    Ibuprofen   \n",
       "2    27955.096079  ...       Emergency     2022-10-07      Aspirin   \n",
       "3    37909.782410  ...        Elective     2020-12-18    Ibuprofen   \n",
       "4    14238.317814  ...          Urgent     2022-10-09   Penicillin   \n",
       "\n",
       "   Test Results Prescription_ID Prescription_Date Refill_Count  Dosage_mg  \\\n",
       "0        Normal        RX000001        2024-01-27            0      500.0   \n",
       "1  Inconclusive        RX000002        2019-08-15            2      200.0   \n",
       "2        Normal        RX000003        2022-09-17            5      300.0   \n",
       "3      Abnormal        RX000004        2020-11-17            0      200.0   \n",
       "4      Abnormal        RX000005        2022-09-14            1      250.0   \n",
       "\n",
       "            Pharmacy  Drug_Class  \n",
       "0  Wellness Pharmacy  Non-opioid  \n",
       "1  Wellness Pharmacy       NSAID  \n",
       "2  Wellness Pharmacy       NSAID  \n",
       "3           CityMeds       NSAID  \n",
       "4     HealthFirst RX       Other  \n",
       "\n",
       "[5 rows x 21 columns]"
      ]
     },
     "execution_count": 1,
     "metadata": {},
     "output_type": "execute_result"
    }
   ],
   "source": [
    "import pandas as pd\n",
    "\n",
    "# Load CSV (replace with your actual file path or name)\n",
    "df = pd.read_csv(\"prescription_drug_abuse_dataset.csv\")\n",
    "\n",
    "# Preview the data\n",
    "df.head()\n"
   ]
  },
  {
   "cell_type": "code",
   "execution_count": 2,
   "id": "7265a72e",
   "metadata": {},
   "outputs": [
    {
     "name": "stdout",
     "output_type": "stream",
     "text": [
      "Index(['name', 'age', 'gender', 'blood_type', 'medical_condition',\n",
      "       'date_of_admission', 'doctor', 'hospital', 'insurance_provider',\n",
      "       'billing_amount', 'room_number', 'admission_type', 'discharge_date',\n",
      "       'medication', 'test_results', 'prescription_id', 'prescription_date',\n",
      "       'refill_count', 'dosage_mg', 'pharmacy', 'drug_class'],\n",
      "      dtype='object')\n"
     ]
    }
   ],
   "source": [
    "# Remove spaces and convert to lowercase in column names\n",
    "df.columns = df.columns.str.strip().str.lower().str.replace(' ', '_')\n",
    "\n",
    "# Show cleaned column names\n",
    "print(df.columns)\n"
   ]
  },
  {
   "cell_type": "code",
   "execution_count": 3,
   "id": "ea1e2f1f",
   "metadata": {},
   "outputs": [
    {
     "data": {
      "text/html": [
       "<div>\n",
       "<style scoped>\n",
       "    .dataframe tbody tr th:only-of-type {\n",
       "        vertical-align: middle;\n",
       "    }\n",
       "\n",
       "    .dataframe tbody tr th {\n",
       "        vertical-align: top;\n",
       "    }\n",
       "\n",
       "    .dataframe thead th {\n",
       "        text-align: right;\n",
       "    }\n",
       "</style>\n",
       "<table border=\"1\" class=\"dataframe\">\n",
       "  <thead>\n",
       "    <tr style=\"text-align: right;\">\n",
       "      <th></th>\n",
       "      <th>date_of_admission</th>\n",
       "      <th>discharge_date</th>\n",
       "      <th>stay_duration_days</th>\n",
       "    </tr>\n",
       "  </thead>\n",
       "  <tbody>\n",
       "    <tr>\n",
       "      <th>0</th>\n",
       "      <td>2024-01-31</td>\n",
       "      <td>2024-02-02</td>\n",
       "      <td>2</td>\n",
       "    </tr>\n",
       "    <tr>\n",
       "      <th>1</th>\n",
       "      <td>2019-08-20</td>\n",
       "      <td>2019-08-26</td>\n",
       "      <td>6</td>\n",
       "    </tr>\n",
       "    <tr>\n",
       "      <th>2</th>\n",
       "      <td>2022-09-22</td>\n",
       "      <td>2022-10-07</td>\n",
       "      <td>15</td>\n",
       "    </tr>\n",
       "    <tr>\n",
       "      <th>3</th>\n",
       "      <td>2020-11-18</td>\n",
       "      <td>2020-12-18</td>\n",
       "      <td>30</td>\n",
       "    </tr>\n",
       "    <tr>\n",
       "      <th>4</th>\n",
       "      <td>2022-09-19</td>\n",
       "      <td>2022-10-09</td>\n",
       "      <td>20</td>\n",
       "    </tr>\n",
       "  </tbody>\n",
       "</table>\n",
       "</div>"
      ],
      "text/plain": [
       "  date_of_admission discharge_date  stay_duration_days\n",
       "0        2024-01-31     2024-02-02                   2\n",
       "1        2019-08-20     2019-08-26                   6\n",
       "2        2022-09-22     2022-10-07                  15\n",
       "3        2020-11-18     2020-12-18                  30\n",
       "4        2022-09-19     2022-10-09                  20"
      ]
     },
     "execution_count": 3,
     "metadata": {},
     "output_type": "execute_result"
    }
   ],
   "source": [
    "# Convert date columns to datetime format\n",
    "df['date_of_admission'] = pd.to_datetime(df['date_of_admission'], errors='coerce')\n",
    "df['discharge_date'] = pd.to_datetime(df['discharge_date'], errors='coerce')\n",
    "df['prescription_date'] = pd.to_datetime(df['prescription_date'], errors='coerce')\n",
    "\n",
    "# Create hospital stay duration column\n",
    "df['stay_duration_days'] = (df['discharge_date'] - df['date_of_admission']).dt.days\n",
    "\n",
    "# Check updated date columns\n",
    "df[['date_of_admission', 'discharge_date', 'stay_duration_days']].head()\n"
   ]
  },
  {
   "cell_type": "code",
   "execution_count": 4,
   "id": "9c21e56d",
   "metadata": {},
   "outputs": [
    {
     "name": "stdout",
     "output_type": "stream",
     "text": [
      "Shape: (55500, 22)\n",
      "\n",
      "Data Types:\n",
      " name                          object\n",
      "age                            int64\n",
      "gender                        object\n",
      "blood_type                    object\n",
      "medical_condition             object\n",
      "date_of_admission     datetime64[ns]\n",
      "doctor                        object\n",
      "hospital                      object\n",
      "insurance_provider            object\n",
      "billing_amount               float64\n",
      "room_number                    int64\n",
      "admission_type                object\n",
      "discharge_date        datetime64[ns]\n",
      "medication                    object\n",
      "test_results                  object\n",
      "prescription_id               object\n",
      "prescription_date     datetime64[ns]\n",
      "refill_count                   int64\n",
      "dosage_mg                    float64\n",
      "pharmacy                      object\n",
      "drug_class                    object\n",
      "stay_duration_days             int64\n",
      "dtype: object\n",
      "\n",
      "Missing Values:\n",
      " name                  0\n",
      "age                   0\n",
      "gender                0\n",
      "blood_type            0\n",
      "medical_condition     0\n",
      "date_of_admission     0\n",
      "doctor                0\n",
      "hospital              0\n",
      "insurance_provider    0\n",
      "billing_amount        0\n",
      "room_number           0\n",
      "admission_type        0\n",
      "discharge_date        0\n",
      "medication            0\n",
      "test_results          0\n",
      "prescription_id       0\n",
      "prescription_date     0\n",
      "refill_count          0\n",
      "dosage_mg             0\n",
      "pharmacy              0\n",
      "drug_class            0\n",
      "stay_duration_days    0\n",
      "dtype: int64\n"
     ]
    },
    {
     "data": {
      "text/html": [
       "<div>\n",
       "<style scoped>\n",
       "    .dataframe tbody tr th:only-of-type {\n",
       "        vertical-align: middle;\n",
       "    }\n",
       "\n",
       "    .dataframe tbody tr th {\n",
       "        vertical-align: top;\n",
       "    }\n",
       "\n",
       "    .dataframe thead th {\n",
       "        text-align: right;\n",
       "    }\n",
       "</style>\n",
       "<table border=\"1\" class=\"dataframe\">\n",
       "  <thead>\n",
       "    <tr style=\"text-align: right;\">\n",
       "      <th></th>\n",
       "      <th>age</th>\n",
       "      <th>date_of_admission</th>\n",
       "      <th>billing_amount</th>\n",
       "      <th>room_number</th>\n",
       "      <th>discharge_date</th>\n",
       "      <th>prescription_date</th>\n",
       "      <th>refill_count</th>\n",
       "      <th>dosage_mg</th>\n",
       "      <th>stay_duration_days</th>\n",
       "    </tr>\n",
       "  </thead>\n",
       "  <tbody>\n",
       "    <tr>\n",
       "      <th>count</th>\n",
       "      <td>55500.000000</td>\n",
       "      <td>55500</td>\n",
       "      <td>55500.000000</td>\n",
       "      <td>55500.000000</td>\n",
       "      <td>55500</td>\n",
       "      <td>55500</td>\n",
       "      <td>55500.000000</td>\n",
       "      <td>55500.000000</td>\n",
       "      <td>55500.000000</td>\n",
       "    </tr>\n",
       "    <tr>\n",
       "      <th>mean</th>\n",
       "      <td>51.539459</td>\n",
       "      <td>2021-11-01 01:02:22.443243008</td>\n",
       "      <td>25539.316097</td>\n",
       "      <td>301.134829</td>\n",
       "      <td>2021-11-16 13:15:20.821621504</td>\n",
       "      <td>2021-10-29 01:14:54.356756992</td>\n",
       "      <td>2.502018</td>\n",
       "      <td>299.839640</td>\n",
       "      <td>15.509009</td>\n",
       "    </tr>\n",
       "    <tr>\n",
       "      <th>min</th>\n",
       "      <td>13.000000</td>\n",
       "      <td>2019-05-08 00:00:00</td>\n",
       "      <td>-2008.492140</td>\n",
       "      <td>101.000000</td>\n",
       "      <td>2019-05-09 00:00:00</td>\n",
       "      <td>2019-05-03 00:00:00</td>\n",
       "      <td>0.000000</td>\n",
       "      <td>200.000000</td>\n",
       "      <td>1.000000</td>\n",
       "    </tr>\n",
       "    <tr>\n",
       "      <th>25%</th>\n",
       "      <td>35.000000</td>\n",
       "      <td>2020-07-28 00:00:00</td>\n",
       "      <td>13241.224652</td>\n",
       "      <td>202.000000</td>\n",
       "      <td>2020-08-12 00:00:00</td>\n",
       "      <td>2020-07-25 00:00:00</td>\n",
       "      <td>1.000000</td>\n",
       "      <td>250.000000</td>\n",
       "      <td>8.000000</td>\n",
       "    </tr>\n",
       "    <tr>\n",
       "      <th>50%</th>\n",
       "      <td>52.000000</td>\n",
       "      <td>2021-11-01 00:00:00</td>\n",
       "      <td>25538.069376</td>\n",
       "      <td>302.000000</td>\n",
       "      <td>2021-11-17 00:00:00</td>\n",
       "      <td>2021-10-29 00:00:00</td>\n",
       "      <td>3.000000</td>\n",
       "      <td>250.000000</td>\n",
       "      <td>15.000000</td>\n",
       "    </tr>\n",
       "    <tr>\n",
       "      <th>75%</th>\n",
       "      <td>68.000000</td>\n",
       "      <td>2023-02-03 00:00:00</td>\n",
       "      <td>37820.508436</td>\n",
       "      <td>401.000000</td>\n",
       "      <td>2023-02-18 00:00:00</td>\n",
       "      <td>2023-01-31 00:00:00</td>\n",
       "      <td>4.000000</td>\n",
       "      <td>300.000000</td>\n",
       "      <td>23.000000</td>\n",
       "    </tr>\n",
       "    <tr>\n",
       "      <th>max</th>\n",
       "      <td>89.000000</td>\n",
       "      <td>2024-05-07 00:00:00</td>\n",
       "      <td>52764.276736</td>\n",
       "      <td>500.000000</td>\n",
       "      <td>2024-06-06 00:00:00</td>\n",
       "      <td>2024-05-06 00:00:00</td>\n",
       "      <td>5.000000</td>\n",
       "      <td>500.000000</td>\n",
       "      <td>30.000000</td>\n",
       "    </tr>\n",
       "    <tr>\n",
       "      <th>std</th>\n",
       "      <td>19.602454</td>\n",
       "      <td>NaN</td>\n",
       "      <td>14211.454431</td>\n",
       "      <td>115.243069</td>\n",
       "      <td>NaN</td>\n",
       "      <td>NaN</td>\n",
       "      <td>1.710317</td>\n",
       "      <td>104.806949</td>\n",
       "      <td>8.659600</td>\n",
       "    </tr>\n",
       "  </tbody>\n",
       "</table>\n",
       "</div>"
      ],
      "text/plain": [
       "                age              date_of_admission  billing_amount  \\\n",
       "count  55500.000000                          55500    55500.000000   \n",
       "mean      51.539459  2021-11-01 01:02:22.443243008    25539.316097   \n",
       "min       13.000000            2019-05-08 00:00:00    -2008.492140   \n",
       "25%       35.000000            2020-07-28 00:00:00    13241.224652   \n",
       "50%       52.000000            2021-11-01 00:00:00    25538.069376   \n",
       "75%       68.000000            2023-02-03 00:00:00    37820.508436   \n",
       "max       89.000000            2024-05-07 00:00:00    52764.276736   \n",
       "std       19.602454                            NaN    14211.454431   \n",
       "\n",
       "        room_number                 discharge_date  \\\n",
       "count  55500.000000                          55500   \n",
       "mean     301.134829  2021-11-16 13:15:20.821621504   \n",
       "min      101.000000            2019-05-09 00:00:00   \n",
       "25%      202.000000            2020-08-12 00:00:00   \n",
       "50%      302.000000            2021-11-17 00:00:00   \n",
       "75%      401.000000            2023-02-18 00:00:00   \n",
       "max      500.000000            2024-06-06 00:00:00   \n",
       "std      115.243069                            NaN   \n",
       "\n",
       "                   prescription_date  refill_count     dosage_mg  \\\n",
       "count                          55500  55500.000000  55500.000000   \n",
       "mean   2021-10-29 01:14:54.356756992      2.502018    299.839640   \n",
       "min              2019-05-03 00:00:00      0.000000    200.000000   \n",
       "25%              2020-07-25 00:00:00      1.000000    250.000000   \n",
       "50%              2021-10-29 00:00:00      3.000000    250.000000   \n",
       "75%              2023-01-31 00:00:00      4.000000    300.000000   \n",
       "max              2024-05-06 00:00:00      5.000000    500.000000   \n",
       "std                              NaN      1.710317    104.806949   \n",
       "\n",
       "       stay_duration_days  \n",
       "count        55500.000000  \n",
       "mean            15.509009  \n",
       "min              1.000000  \n",
       "25%              8.000000  \n",
       "50%             15.000000  \n",
       "75%             23.000000  \n",
       "max             30.000000  \n",
       "std              8.659600  "
      ]
     },
     "execution_count": 4,
     "metadata": {},
     "output_type": "execute_result"
    }
   ],
   "source": [
    "# Shape and data types\n",
    "print(\"Shape:\", df.shape)\n",
    "print(\"\\nData Types:\\n\", df.dtypes)\n",
    "\n",
    "# Null values\n",
    "print(\"\\nMissing Values:\\n\", df.isnull().sum())\n",
    "\n",
    "# Basic summary\n",
    "df.describe()\n"
   ]
  },
  {
   "cell_type": "code",
   "execution_count": 5,
   "id": "f1f24168",
   "metadata": {},
   "outputs": [],
   "source": [
    "# Standardize patient name and gender fields\n",
    "df['name'] = df['name'].str.title()\n",
    "df['gender'] = df['gender'].str.capitalize()\n",
    "df['drug_class'] = df['drug_class'].str.capitalize()\n",
    "df['medication'] = df['medication'].str.title()\n"
   ]
  },
  {
   "cell_type": "code",
   "execution_count": 6,
   "id": "610dbaf0",
   "metadata": {},
   "outputs": [],
   "source": [
    "# Flag potential abuse cases (you can tweak the logic as needed)\n",
    "def detect_abuse(row):\n",
    "    if row['refill_count'] > 3 and row['dosage_mg'] > 300:\n",
    "        return 'High'\n",
    "    elif row['refill_count'] > 2:\n",
    "        return 'Medium'\n",
    "    else:\n",
    "        return 'Low'\n",
    "\n",
    "df['abuse_risk'] = df.apply(detect_abuse, axis=1)\n"
   ]
  },
  {
   "cell_type": "code",
   "execution_count": 7,
   "id": "460cfaad",
   "metadata": {},
   "outputs": [
    {
     "data": {
      "text/plain": [
       "abuse_risk\n",
       "Low       27685\n",
       "Medium    24116\n",
       "High       3699\n",
       "Name: count, dtype: int64"
      ]
     },
     "execution_count": 7,
     "metadata": {},
     "output_type": "execute_result"
    }
   ],
   "source": [
    "df['abuse_risk'].value_counts()\n"
   ]
  },
  {
   "cell_type": "code",
   "execution_count": 8,
   "id": "2c44b5ca",
   "metadata": {},
   "outputs": [
    {
     "data": {
      "text/html": [
       "<div>\n",
       "<style scoped>\n",
       "    .dataframe tbody tr th:only-of-type {\n",
       "        vertical-align: middle;\n",
       "    }\n",
       "\n",
       "    .dataframe tbody tr th {\n",
       "        vertical-align: top;\n",
       "    }\n",
       "\n",
       "    .dataframe thead th {\n",
       "        text-align: right;\n",
       "    }\n",
       "</style>\n",
       "<table border=\"1\" class=\"dataframe\">\n",
       "  <thead>\n",
       "    <tr style=\"text-align: right;\">\n",
       "      <th></th>\n",
       "      <th>age</th>\n",
       "      <th>age_group</th>\n",
       "    </tr>\n",
       "  </thead>\n",
       "  <tbody>\n",
       "    <tr>\n",
       "      <th>0</th>\n",
       "      <td>30</td>\n",
       "      <td>18-35</td>\n",
       "    </tr>\n",
       "    <tr>\n",
       "      <th>1</th>\n",
       "      <td>62</td>\n",
       "      <td>51-65</td>\n",
       "    </tr>\n",
       "    <tr>\n",
       "      <th>2</th>\n",
       "      <td>76</td>\n",
       "      <td>65+</td>\n",
       "    </tr>\n",
       "    <tr>\n",
       "      <th>3</th>\n",
       "      <td>28</td>\n",
       "      <td>18-35</td>\n",
       "    </tr>\n",
       "    <tr>\n",
       "      <th>4</th>\n",
       "      <td>43</td>\n",
       "      <td>36-50</td>\n",
       "    </tr>\n",
       "  </tbody>\n",
       "</table>\n",
       "</div>"
      ],
      "text/plain": [
       "   age age_group\n",
       "0   30     18-35\n",
       "1   62     51-65\n",
       "2   76       65+\n",
       "3   28     18-35\n",
       "4   43     36-50"
      ]
     },
     "execution_count": 8,
     "metadata": {},
     "output_type": "execute_result"
    }
   ],
   "source": [
    "bins = [0, 18, 35, 50, 65, 100]\n",
    "labels = ['<18', '18-35', '36-50', '51-65', '65+']\n",
    "df['age_group'] = pd.cut(df['age'], bins=bins, labels=labels, right=False)\n",
    "\n",
    "df[['age', 'age_group']].head()\n"
   ]
  },
  {
   "cell_type": "code",
   "execution_count": 11,
   "id": "76498e2c",
   "metadata": {},
   "outputs": [
    {
     "data": {
      "image/png": "[encoded data removed]",
      "text/plain": [
       "<Figure size 432x288 with 1 Axes>"
      ]
     },
     "metadata": {
      "needs_background": "light"
     },
     "output_type": "display_data"
    }
   ],
   "source": [
    "sns.countplot(data=df, x='refill_count', hue='refill_count', palette='coolwarm', legend=False)\n",
    "plt.title(\"Refill Count Distribution\")\n",
    "plt.xlabel(\"Refill Count\")\n",
    "plt.ylabel(\"Number of Patients\")\n",
    "plt.show()\n"
   ]
  },
  {
   "cell_type": "code",
   "execution_count": 12,
   "id": "a9ba15ba",
   "metadata": {},
   "outputs": [
    {
     "data": {
      "image/png": "[encoded data removed]",
      "text/plain": [
       "<Figure size 432x288 with 1 Axes>"
      ]
     },
     "metadata": {
      "needs_background": "light"
     },
     "output_type": "display_data"
    }
   ],
   "source": [
    "top_meds = df['medication'].value_counts().head(10)\n",
    "top_meds.plot(kind='bar', color='skyblue')\n",
    "plt.title(\"Top 10 Prescribed Medications\")\n",
    "plt.xlabel(\"Medication\")\n",
    "plt.ylabel(\"Frequency\")\n",
    "plt.xticks(rotation=45)\n",
    "plt.show()\n"
   ]
  },
  {
   "cell_type": "code",
   "execution_count": 14,
   "id": "f06d041e",
   "metadata": {},
   "outputs": [
    {
     "data": {
      "image/png": "[encoded data removed]",
      "text/plain": [
       "<Figure size 432x288 with 1 Axes>"
      ]
     },
     "metadata": {
      "needs_background": "light"
     },
     "output_type": "display_data"
    }
   ],
   "source": [
    "sns.boxplot(data=df, x='drug_class', y='dosage_mg')\n",
    "plt.title(\"Dosage (mg) by Drug Class\")\n",
    "plt.xticks(rotation=45)\n",
    "plt.show()\n"
   ]
  },
  {
   "cell_type": "code",
   "execution_count": 15,
   "id": "055ad1aa",
   "metadata": {},
   "outputs": [
    {
     "data": {
      "image/png": "[encoded data removed]",
      "text/plain": [
       "<Figure size 432x288 with 1 Axes>"
      ]
     },
     "metadata": {
      "needs_background": "light"
     },
     "output_type": "display_data"
    }
   ],
   "source": [
    "sns.countplot(data=df, x='age_group', hue='abuse_risk', palette='rocket')\n",
    "plt.title(\"Abuse Risk by Age Group\")\n",
    "plt.xlabel(\"Age Group\")\n",
    "plt.ylabel(\"Number of Patients\")\n",
    "plt.show()\n"
   ]
  },
  {
   "cell_type": "code",
   "execution_count": 16,
   "id": "b2c46e3a",
   "metadata": {},
   "outputs": [
    {
     "data": {
      "image/png": "[encoded data removed]",
      "text/plain": [
       "<Figure size 432x288 with 1 Axes>"
      ]
     },
     "metadata": {
      "needs_background": "light"
     },
     "output_type": "display_data"
    }
   ],
   "source": [
    "abuse_by_drug = df.groupby('drug_class')['abuse_risk'].value_counts().unstack().fillna(0)\n",
    "abuse_by_drug.plot(kind='bar', stacked=True, colormap='coolwarm')\n",
    "plt.title(\"Abuse Risk by Drug Class\")\n",
    "plt.ylabel(\"Number of Patients\")\n",
    "plt.xlabel(\"Drug Class\")\n",
    "plt.xticks(rotation=45)\n",
    "plt.show()\n"
   ]
  },
  {
   "cell_type": "code",
   "execution_count": 17,
   "id": "18037dda",
   "metadata": {},
   "outputs": [
    {
     "data": {
      "image/png": "[encoded data removed]",
      "text/plain": [
       "<Figure size 432x288 with 1 Axes>"
      ]
     },
     "metadata": {
      "needs_background": "light"
     },
     "output_type": "display_data"
    }
   ],
   "source": [
    "high_risk_df = df[df['abuse_risk'] == 'High']\n",
    "\n",
    "top_doctors = high_risk_df['doctor'].value_counts().head(5)\n",
    "top_doctors.plot(kind='barh', color='red')\n",
    "plt.title(\"Top 5 Doctors Prescribing High-Risk Drugs\")\n",
    "plt.xlabel(\"Number of High-Risk Prescriptions\")\n",
    "plt.ylabel(\"Doctor\")\n",
    "plt.show()\n"
   ]
  },
  {
   "cell_type": "code",
   "execution_count": 18,
   "id": "1b0aaeb7",
   "metadata": {},
   "outputs": [
    {
     "data": {
      "image/png": "[encoded data removed]",
      "text/plain": [
       "<Figure size 432x288 with 1 Axes>"
      ]
     },
     "metadata": {},
     "output_type": "display_data"
    }
   ],
   "source": [
    "pharmacies = high_risk_df['pharmacy'].value_counts()\n",
    "pharmacies.plot(kind='pie', autopct='%1.1f%%', startangle=140)\n",
    "plt.title(\"Pharmacies Dispensing High-Risk Prescriptions\")\n",
    "plt.ylabel(\"\")\n",
    "plt.show()\n"
   ]
  },
  {
   "cell_type": "code",
   "execution_count": 19,
   "id": "30ceed44",
   "metadata": {},
   "outputs": [
    {
     "data": {
      "image/png": "[encoded data removed]",
      "text/plain": [
       "<Figure size 720x432 with 2 Axes>"
      ]
     },
     "metadata": {
      "needs_background": "light"
     },
     "output_type": "display_data"
    }
   ],
   "source": [
    "import numpy as np\n",
    "\n",
    "# Select numeric features\n",
    "numeric_cols = df.select_dtypes(include=np.number)\n",
    "\n",
    "# Correlation matrix\n",
    "corr = numeric_cols.corr()\n",
    "\n",
    "# Plot heatmap\n",
    "plt.figure(figsize=(10, 6))\n",
    "sns.heatmap(corr, annot=True, cmap='coolwarm', fmt='.2f')\n",
    "plt.title(\"Correlation Matrix\")\n",
    "plt.show()\n"
   ]
  },
  {
   "cell_type": "code",
   "execution_count": 20,
   "id": "c8ba0b29",
   "metadata": {},
   "outputs": [],
   "source": [
    "# Save the cleaned and updated DataFrame to a new CSV file\n",
    "df.to_csv(\"updated_prescription_data.csv\", index=False)\n"
   ]
  },
  {
   "cell_type": "code",
   "execution_count": null,
   "id": "ae56d931",
   "metadata": {},
   "outputs": [],
   "source": []
  }
 ],
 "metadata": {
  "kernelspec": {
   "display_name": "Python 3 (ipykernel)",
   "language": "python",
   "name": "python3"
  },
  "language_info": {
   "codemirror_mode": {
    "name": "ipython",
    "version": 3
   },
   "file_extension": ".py",
   "mimetype": "text/x-python",
   "name": "python",
   "nbconvert_exporter": "python",
   "pygments_lexer": "ipython3",
   "version": "3.9.12"
  }
 },
 "nbformat": 4,
 "nbformat_minor": 5
}
